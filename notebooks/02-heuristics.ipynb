{
 "cells": [
  {
   "cell_type": "code",
   "execution_count": 1,
   "id": "bc7c4b2c-2f44-4270-8177-75e4bd4139dd",
   "metadata": {},
   "outputs": [],
   "source": [
    "import zipfile, itertools, re\n",
    "\n",
    "import pandas as pd\n",
    "import seaborn as sns\n",
    "import matplotlib.pyplot as plt\n",
    "import nltk\n",
    "import contractions\n",
    "\n",
    "from IPython.display import display, HTML\n",
    "from tqdm.notebook import tqdm\n",
    "from unicodedata import normalize as unicode_normalize\n",
    "from sklearn.feature_extraction.text import TfidfVectorizer\n",
    "from sklearn.linear_model import LogisticRegression\n",
    "from sklearn.metrics import classification_report, confusion_matrix, ConfusionMatrixDisplay"
   ]
  },
  {
   "cell_type": "code",
   "execution_count": 2,
   "id": "ec3764ca-b68e-48bb-b212-84254817b479",
   "metadata": {},
   "outputs": [],
   "source": [
    "tqdm.pandas()"
   ]
  },
  {
   "cell_type": "markdown",
   "id": "342cd414-b69e-4c21-abef-685771fc43c4",
   "metadata": {},
   "source": [
    "Heuristics for detecting fake news.\n",
    "\n",
    "Easy cases:\n",
    "- Use of hyperbole\n",
    "- Execisve use of uppercase letters\n",
    "- Excessive use of punctuation !!!!\n",
    "- Consists mostly of tweets and quotes from other people\n",
    "- Contains terms or phrases like:\n",
    "  - Bombshell, it's over, it's worse, epic\n",
    "- Biased vocabulary:\n",
    "  - Illegals instead of immigrants\n",
    "- Check whether the source is good\n",
    "- Good piece here: https://towardsdatascience.com/i-trained-fake-news-detection-ai-with-95-accuracy-and-almost-went-crazy-d10589aa57c\n",
    "\n",
    "Difficult cases:\n",
    "- Fake articles that mimic real ones and twist the story\n",
    "- Pseudoscientific articles\n",
    "- Satirical articles\n",
    "- Opinion pieces disguised as news articles\n"
   ]
  },
  {
   "cell_type": "code",
   "execution_count": 3,
   "id": "67604be4-0e95-406f-84b7-8b32018ee006",
   "metadata": {},
   "outputs": [],
   "source": [
    "def load_data(fake_file_path: str, real_file_path: str):\n",
    "    df_fake = pd.read_csv(fake_file_path)\n",
    "    df_fake[\"is_fake\"] = True\n",
    "    df_fake[\"is_real\"] = False\n",
    "    \n",
    "    df_real = pd.read_csv(real_file_path)\n",
    "    df_real[\"is_real\"] = True\n",
    "    df_real[\"is_fake\"] = False\n",
    "\n",
    "    df_data = pd.concat([df_fake, df_real], ignore_index=True)\n",
    "    \n",
    "    return df_data\n",
    "\n",
    "def display_titles(df_data, top_k: int=10):\n",
    "    n_samples = min(top_k, df_data.shape[0])\n",
    "\n",
    "    html_text = \"<table><tbody>\"\n",
    "    for i in range(n_samples):\n",
    "        html_text += '<tr><td style=\"text-align:left;\">'\n",
    "        html_text += df_data.iloc[i][\"title\"]\n",
    "        html_text += \"</td></tr>\"\n",
    "    html_text += \"</tbody></table>\"\n",
    "\n",
    "    display(HTML(html_text))\n",
    "    \n",
    "def eval_rule(fake_file_path: str, real_file_path: str, attr_name: str=\"title\"):\n",
    "    df_data = load_data(\n",
    "        fake_file_path=fake_file_path,\n",
    "        real_file_path=real_file_path,\n",
    "    )\n",
    "    \n",
    "    # Generate predictions\n",
    "    df_data[\"pred_is_fake\"] = df_data[attr_name].progress_apply(labeling_function)\n",
    "\n",
    "    print(\" Classification Report\")\n",
    "    print(\"-----------------------\")\n",
    "    print(classification_report(y_true=df_data[\"is_fake\"], y_pred=df_data[\"pred_is_fake\"]))\n",
    "    \n",
    "    cm = ConfusionMatrixDisplay(\n",
    "        confusion_matrix(\n",
    "            y_true=df_data[\"is_fake\"],\n",
    "            y_pred=df_data[\"pred_is_fake\"],\n",
    "        )\n",
    "    )\n",
    "    cm.plot()"
   ]
  },
  {
   "cell_type": "code",
   "execution_count": 4,
   "id": "068d7f8b-4901-44bd-aac8-e4af8c7a46ee",
   "metadata": {},
   "outputs": [],
   "source": [
    "with zipfile.ZipFile(\"../data/isot/News_dataset.zip\") as zf:\n",
    "    dataframes = {f: pd.read_csv(zf.open(f)) for f in zf.namelist()}\n",
    "df_news_fake = dataframes[\"Fake.csv\"]\n",
    "df_news_true = dataframes[\"True.csv\"]\n",
    "df_news_fake[\"is_fake\"] = True\n",
    "df_news_true[\"is_fake\"] = False\n",
    "df_news_true[\"is_real\"] = True\n",
    "df_news_fake[\"is_real\"] = False\n",
    "df_news = pd.concat([df_news_fake, df_news_true], ignore_index=True)"
   ]
  },
  {
   "cell_type": "code",
   "execution_count": 5,
   "id": "d68dde21-0b5c-4865-93cc-5b8406ef07bf",
   "metadata": {},
   "outputs": [],
   "source": [
    "LABEL_FAKE = True\n",
    "LABEL_ABSTAIN = None\n",
    "LABEL_REAL = False\n",
    "\n",
    "def labeling_function(title):\n",
    "    uppercase_letters = [char for char in title if char.isupper()]\n",
    "    uppercase_ratio = len(uppercase_letters) / len(title)\n",
    "    if uppercase_ratio > 0.2:\n",
    "        return LABEL_FAKE\n",
    "    \n",
    "    # n_exclamations = len([char for char in title if char == '!'])\n",
    "    # if n_exclamations > 1:\n",
    "    #     return LABEL_FAKE\n",
    "\n",
    "    return LABEL_REAL"
   ]
  },
  {
   "cell_type": "code",
   "execution_count": 6,
   "id": "293f04f8-21e5-4b22-8128-490d0d55cae5",
   "metadata": {},
   "outputs": [
    {
     "data": {
      "application/vnd.jupyter.widget-view+json": {
       "model_id": "7badd87d4a9d43bc87f97f5f46f8b74c",
       "version_major": 2,
       "version_minor": 0
      },
      "text/plain": [
       "  0%|          | 0/44898 [00:00<?, ?it/s]"
      ]
     },
     "metadata": {},
     "output_type": "display_data"
    }
   ],
   "source": [
    "df_news[\"pred_is_fake\"] = df_news[\"title\"].progress_apply(labeling_function)"
   ]
  },
  {
   "cell_type": "code",
   "execution_count": 7,
   "id": "2d6a6f6b-6fab-49f8-bb9b-a8caa2e93e2d",
   "metadata": {},
   "outputs": [
    {
     "name": "stdout",
     "output_type": "stream",
     "text": [
      "              precision    recall  f1-score   support\n",
      "\n",
      "       False       0.78      1.00      0.87     21417\n",
      "        True       1.00      0.74      0.85     23481\n",
      "\n",
      "    accuracy                           0.86     44898\n",
      "   macro avg       0.89      0.87      0.86     44898\n",
      "weighted avg       0.89      0.86      0.86     44898\n",
      "\n"
     ]
    }
   ],
   "source": [
    "print(classification_report(y_true=df_news[\"is_fake\"], y_pred=df_news[\"pred_is_fake\"]))"
   ]
  },
  {
   "cell_type": "code",
   "execution_count": 8,
   "id": "8cc08b47-90f8-4bd4-b0a9-af7e2886f0e4",
   "metadata": {},
   "outputs": [
    {
     "data": {
      "text/plain": [
       "<sklearn.metrics._plot.confusion_matrix.ConfusionMatrixDisplay at 0x7fc41c101730>"
      ]
     },
     "execution_count": 8,
     "metadata": {},
     "output_type": "execute_result"
    },
    {
     "data": {
      "image/png": "[encoded data removed]",
      "text/plain": [
       "<Figure size 432x288 with 2 Axes>"
      ]
     },
     "metadata": {
      "needs_background": "light"
     },
     "output_type": "display_data"
    }
   ],
   "source": [
    "sns.set_style('white')\n",
    "cm = ConfusionMatrixDisplay(\n",
    "    confusion_matrix(\n",
    "        y_true=df_news[\"is_fake\"],\n",
    "        y_pred=df_news[\"pred_is_fake\"],\n",
    "    )\n",
    ")\n",
    "cm.plot()"
   ]
  },
  {
   "cell_type": "code",
   "execution_count": 9,
   "id": "d6989745-8d74-4ead-aa4d-8e22c1fd04d8",
   "metadata": {},
   "outputs": [],
   "source": [
    "df_false_negatives = df_news[(df_news[\"is_fake\"] == True) & (df_news[\"pred_is_fake\"] == False) ]"
   ]
  },
  {
   "cell_type": "code",
   "execution_count": 10,
   "id": "c573dfa7-36b9-40a7-944a-2c6ccb149419",
   "metadata": {},
   "outputs": [
    {
     "data": {
      "text/html": [
       "<table><tbody><tr><td style=\"text-align:left;\"> Donald Trump Sends Out Embarrassing New Year’s Eve Message; This is Disturbing</td></tr><tr><td style=\"text-align:left;\"> Drunk Bragging Trump Staffer Started Russian Collusion Investigation</td></tr><tr><td style=\"text-align:left;\"> Sheriff David Clarke Becomes An Internet Joke For Threatening To Poke People ‘In The Eye’</td></tr><tr><td style=\"text-align:left;\"> Pope Francis Just Called Out Donald Trump During His Christmas Speech</td></tr><tr><td style=\"text-align:left;\"> Papa John’s Founder Retires, Figures Out Racism Is Bad For Business</td></tr><tr><td style=\"text-align:left;\"> Bad News For Trump — Mitch McConnell Says No To Repealing Obamacare In 2018</td></tr><tr><td style=\"text-align:left;\"> WATCH: Lindsey Graham Trashes Media For Portraying Trump As ‘Kooky,’ Forgets His Own Words</td></tr><tr><td style=\"text-align:left;\"> Tone Deaf Trump: Congrats Rep. Scalise On Losing Weight After You Almost Died</td></tr><tr><td style=\"text-align:left;\"> The Internet Brutally Mocks Disney’s New Trump Robot At Hall Of Presidents</td></tr><tr><td style=\"text-align:left;\"> Mueller Spokesman Just F-cked Up Donald Trump’s Christmas</td></tr></tbody></table>"
      ],
      "text/plain": [
       "<IPython.core.display.HTML object>"
      ]
     },
     "metadata": {},
     "output_type": "display_data"
    }
   ],
   "source": [
    "display_titles(df_data=df_false_negatives, top_k=10)"
   ]
  },
  {
   "cell_type": "code",
   "execution_count": 11,
   "id": "327a7812-a28e-4fd6-b637-5f5d513400f1",
   "metadata": {},
   "outputs": [
    {
     "data": {
      "application/vnd.jupyter.widget-view+json": {
       "model_id": "67b1d65883924bd2998f16e7caf13456",
       "version_major": 2,
       "version_minor": 0
      },
      "text/plain": [
       "  0%|          | 0/1056 [00:00<?, ?it/s]"
      ]
     },
     "metadata": {},
     "output_type": "display_data"
    },
    {
     "name": "stdout",
     "output_type": "stream",
     "text": [
      " Classification Report\n",
      "-----------------------\n",
      "              precision    recall  f1-score   support\n",
      "\n",
      "       False       0.65      0.92      0.76       624\n",
      "        True       0.72      0.29      0.41       432\n",
      "\n",
      "    accuracy                           0.66      1056\n",
      "   macro avg       0.69      0.61      0.59      1056\n",
      "weighted avg       0.68      0.66      0.62      1056\n",
      "\n"
     ]
    },
    {
     "data": {
      "image/png": "[encoded data removed]",
      "text/plain": [
       "<Figure size 432x288 with 2 Axes>"
      ]
     },
     "metadata": {
      "needs_background": "light"
     },
     "output_type": "display_data"
    }
   ],
   "source": [
    "eval_rule(\n",
    "    fake_file_path=\"../data/fakenewsnet/politifact_fake.csv\",\n",
    "    real_file_path=\"../data/fakenewsnet/politifact_real.csv\",\n",
    ")"
   ]
  },
  {
   "cell_type": "code",
   "execution_count": 12,
   "id": "b58b484d-c2d8-4f37-82d9-189f3a4ca3ee",
   "metadata": {},
   "outputs": [
    {
     "data": {
      "application/vnd.jupyter.widget-view+json": {
       "model_id": "32aa8a5005e7400cadbcc6816423e1fa",
       "version_major": 2,
       "version_minor": 0
      },
      "text/plain": [
       "  0%|          | 0/22140 [00:00<?, ?it/s]"
      ]
     },
     "metadata": {},
     "output_type": "display_data"
    },
    {
     "name": "stdout",
     "output_type": "stream",
     "text": [
      " Classification Report\n",
      "-----------------------\n",
      "              precision    recall  f1-score   support\n",
      "\n",
      "       False       0.76      0.96      0.85     16817\n",
      "        True       0.32      0.05      0.09      5323\n",
      "\n",
      "    accuracy                           0.75     22140\n",
      "   macro avg       0.54      0.51      0.47     22140\n",
      "weighted avg       0.66      0.75      0.67     22140\n",
      "\n"
     ]
    },
    {
     "data": {
      "image/png": "[encoded data removed]",
      "text/plain": [
       "<Figure size 432x288 with 2 Axes>"
      ]
     },
     "metadata": {
      "needs_background": "light"
     },
     "output_type": "display_data"
    }
   ],
   "source": [
    "eval_rule(\n",
    "    fake_file_path=\"../data/fakenewsnet/gossipcop_fake.csv\",\n",
    "    real_file_path=\"../data/fakenewsnet/gossipcop_real.csv\",\n",
    ")"
   ]
  },
  {
   "cell_type": "code",
   "execution_count": null,
   "id": "2962990f-8ef8-4687-87f9-ee5165aae0b4",
   "metadata": {},
   "outputs": [],
   "source": []
  }
 ],
 "metadata": {
  "kernelspec": {
   "display_name": "Python 3 (ipykernel)",
   "language": "python",
   "name": "python3"
  },
  "language_info": {
   "codemirror_mode": {
    "name": "ipython",
    "version": 3
   },
   "file_extension": ".py",
   "mimetype": "text/x-python",
   "name": "python",
   "nbconvert_exporter": "python",
   "pygments_lexer": "ipython3",
   "version": "3.8.13"
  }
 },
 "nbformat": 4,
 "nbformat_minor": 5
}
